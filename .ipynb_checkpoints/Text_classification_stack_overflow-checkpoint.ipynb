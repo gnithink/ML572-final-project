{
 "cells": [
  {
   "cell_type": "code",
   "execution_count": 2,
   "metadata": {},
   "outputs": [
    {
     "data": {
      "application/vnd.jupyter.widget-view+json": {
       "model_id": "d35fb4a61dcd4101af49ff37efa9b57a",
       "version_major": 2,
       "version_minor": 0
      },
      "text/html": [
       "<p>Failed to display Jupyter Widget of type <code>HBox</code>.</p>\n",
       "<p>\n",
       "  If you're reading this message in the Jupyter Notebook or JupyterLab Notebook, it may mean\n",
       "  that the widgets JavaScript is still loading. If this message persists, it\n",
       "  likely means that the widgets JavaScript library is either not installed or\n",
       "  not enabled. See the <a href=\"https://ipywidgets.readthedocs.io/en/stable/user_install.html\">Jupyter\n",
       "  Widgets Documentation</a> for setup instructions.\n",
       "</p>\n",
       "<p>\n",
       "  If you're reading this message in another frontend (for example, a static\n",
       "  rendering on GitHub or <a href=\"https://nbviewer.jupyter.org/\">NBViewer</a>),\n",
       "  it may mean that your frontend doesn't currently support widgets.\n",
       "</p>\n"
      ],
      "text/plain": [
       "HBox(children=(IntProgress(value=0, max=7196138), HTML(value='')))"
      ]
     },
     "metadata": {},
     "output_type": "display_data"
    },
    {
     "name": "stdout",
     "output_type": "stream",
     "text": [
      "\n"
     ]
    },
    {
     "data": {
      "application/vnd.jupyter.widget-view+json": {
       "model_id": "2a8717b83b894b6c94b8b38e33feeee5",
       "version_major": 2,
       "version_minor": 0
      },
      "text/html": [
       "<p>Failed to display Jupyter Widget of type <code>HBox</code>.</p>\n",
       "<p>\n",
       "  If you're reading this message in the Jupyter Notebook or JupyterLab Notebook, it may mean\n",
       "  that the widgets JavaScript is still loading. If this message persists, it\n",
       "  likely means that the widgets JavaScript library is either not installed or\n",
       "  not enabled. See the <a href=\"https://ipywidgets.readthedocs.io/en/stable/user_install.html\">Jupyter\n",
       "  Widgets Documentation</a> for setup instructions.\n",
       "</p>\n",
       "<p>\n",
       "  If you're reading this message in another frontend (for example, a static\n",
       "  rendering on GitHub or <a href=\"https://nbviewer.jupyter.org/\">NBViewer</a>),\n",
       "  it may mean that your frontend doesn't currently support widgets.\n",
       "</p>\n"
      ],
      "text/plain": [
       "HBox(children=(IntProgress(value=0, max=2166270), HTML(value='')))"
      ]
     },
     "metadata": {},
     "output_type": "display_data"
    },
    {
     "name": "stdout",
     "output_type": "stream",
     "text": [
      "\n"
     ]
    },
    {
     "data": {
      "application/vnd.jupyter.widget-view+json": {
       "model_id": "a59c3aa2586144a58dd1493f598deeb6",
       "version_major": 2,
       "version_minor": 0
      },
      "text/html": [
       "<p>Failed to display Jupyter Widget of type <code>HBox</code>.</p>\n",
       "<p>\n",
       "  If you're reading this message in the Jupyter Notebook or JupyterLab Notebook, it may mean\n",
       "  that the widgets JavaScript is still loading. If this message persists, it\n",
       "  likely means that the widgets JavaScript library is either not installed or\n",
       "  not enabled. See the <a href=\"https://ipywidgets.readthedocs.io/en/stable/user_install.html\">Jupyter\n",
       "  Widgets Documentation</a> for setup instructions.\n",
       "</p>\n",
       "<p>\n",
       "  If you're reading this message in another frontend (for example, a static\n",
       "  rendering on GitHub or <a href=\"https://nbviewer.jupyter.org/\">NBViewer</a>),\n",
       "  it may mean that your frontend doesn't currently support widgets.\n",
       "</p>\n"
      ],
      "text/plain": [
       "HBox(children=(IntProgress(value=0, max=1041379), HTML(value='')))"
      ]
     },
     "metadata": {},
     "output_type": "display_data"
    },
    {
     "name": "stdout",
     "output_type": "stream",
     "text": [
      "\n"
     ]
    },
    {
     "data": {
      "application/vnd.jupyter.widget-view+json": {
       "model_id": "5176e9aac4b848f2862867a91390240a",
       "version_major": 2,
       "version_minor": 0
      },
      "text/html": [
       "<p>Failed to display Jupyter Widget of type <code>HBox</code>.</p>\n",
       "<p>\n",
       "  If you're reading this message in the Jupyter Notebook or JupyterLab Notebook, it may mean\n",
       "  that the widgets JavaScript is still loading. If this message persists, it\n",
       "  likely means that the widgets JavaScript library is either not installed or\n",
       "  not enabled. See the <a href=\"https://ipywidgets.readthedocs.io/en/stable/user_install.html\">Jupyter\n",
       "  Widgets Documentation</a> for setup instructions.\n",
       "</p>\n",
       "<p>\n",
       "  If you're reading this message in another frontend (for example, a static\n",
       "  rendering on GitHub or <a href=\"https://nbviewer.jupyter.org/\">NBViewer</a>),\n",
       "  it may mean that your frontend doesn't currently support widgets.\n",
       "</p>\n"
      ],
      "text/plain": [
       "HBox(children=(IntProgress(value=0, max=5091), HTML(value='')))"
      ]
     },
     "metadata": {},
     "output_type": "display_data"
    },
    {
     "name": "stdout",
     "output_type": "stream",
     "text": [
      "\n"
     ]
    }
   ],
   "source": [
    "import sys\n",
    "sys.path.append(\"..\")\n",
    "from common.download_utils import download_week1_resources\n",
    "# downloading the data from a github repository\n",
    "# Data is already split into test, validation and test sets\n",
    "# otherwise should have used pandas or general python to split the dataset.\n",
    "download_week1_resources()"
   ]
  },
  {
   "cell_type": "code",
   "execution_count": 3,
   "metadata": {},
   "outputs": [
    {
     "name": "stdout",
     "output_type": "stream",
     "text": [
      "[nltk_data] Downloading package stopwords to /root/nltk_data...\n",
      "[nltk_data]   Package stopwords is already up-to-date!\n"
     ]
    }
   ],
   "source": [
    "# Importing a list of stop words from NLTK so that they can be removed from the dataset\n",
    "# stop words do not contridute the process of tagging.\n",
    "import nltk\n",
    "nltk.download('stopwords')\n",
    "from nltk.corpus import stopwords"
   ]
  },
  {
   "cell_type": "code",
   "execution_count": 4,
   "metadata": {},
   "outputs": [],
   "source": [
    "# ast.literal_eval raises an exception if the input isn't a valid Python datatype, \n",
    "# so the code won't be executed if it's not\n",
    "from ast import literal_eval \n",
    "import pandas as pd\n",
    "import numpy as np"
   ]
  },
  {
   "cell_type": "code",
   "execution_count": 5,
   "metadata": {},
   "outputs": [],
   "source": [
    "def read_data(filename): # function to read data. check\n",
    "    data = pd.read_csv(filename, sep='\\t')\n",
    "    data['tags'] = data['tags'].apply(literal_eval)\n",
    "    return data"
   ]
  },
  {
   "cell_type": "code",
   "execution_count": 6,
   "metadata": {},
   "outputs": [],
   "source": [
    "# reading the data from files and storing them in variables\n",
    "train = read_data('data/train.tsv')\n",
    "validation = read_data('data/validation.tsv')\n",
    "test = pd.read_csv('data/test.tsv', sep='\\t')"
   ]
  },
  {
   "cell_type": "code",
   "execution_count": 18,
   "metadata": {},
   "outputs": [
    {
     "name": "stdout",
     "output_type": "stream",
     "text": [
      "title  0                      How to draw a stacked dotplot in R?\n",
      "1        mysql select all records where a datetime fiel...\n",
      "2                   How to terminate windows phone 8.1 app\n",
      "3        get current time in a specific country via jquery\n",
      "4                            Configuring Tomcat to Use SSL\n",
      "5        Awesome nested set plugin - how to add new chi...\n",
      "6        How to create map from JSON response in Ruby o...\n",
      "7                           rspec test if method is called\n",
      "8                  SpringBoot Catalina LifeCycle Exception\n",
      "9        How to import data from excel to mysql databas...\n",
      "10       Obtaining the object the java.lang.Class<T> ob...\n",
      "11       iPad not selecting all text inside a text inpu...\n",
      "12             How is jQuery's $ a function and an object?\n",
      "13       Eclipse C++ MinGW - Can not Lauch Program <Ter...\n",
      "14       In javascript how can I call one prototype met...\n",
      "15                        get intersection of list of sets\n",
      "16       No longer able to hide keyboard during viewWil...\n",
      "17                How to fetch the key from JSON in Swift?\n",
      "18       How to Change Pivot Header Template in Windows...\n",
      "19                             connectionString encryption\n",
      "20       How to let the UI refresh during a long runnin...\n",
      "21       Better way to execute ruby file using Python a...\n",
      "22                make 2 thumbnails at once in codeigniter\n",
      "23        Java Character vs char: what about memory usage?\n",
      "24                Bootstrap modal close on enter key press\n",
      "25          Linq query with group by retrieving percentage\n",
      "26                             Label field issue - OpenErp\n",
      "27       How to keep 2 objects in view at all time by s...\n",
      "28       AttributeError: 'NoneType' object has no attri...\n",
      "29       How to append to .mat file using scipy.io.save...\n",
      "                               ...                        \n",
      "99970    How to match nearest latitude and longitude in...\n",
      "99971                  PHP: get contents of li's within ul\n",
      "99972    Cannot create TypedQuery for query with more t...\n",
      "99973    Yii PHP Framework: Unable to require_once insi...\n",
      "99974    Alternative to XML Serialization for Configura...\n",
      "99975                ASP.NET Web service - 400 bad request\n",
      "99976    how to build a loess model in in R using time ...\n",
      "99977    Adding Facebook Pop in swift project (iOS 8.0 ...\n",
      "99978    What should happen if I throw an exception in ...\n",
      "99979    Parallel(Async) tasks using Web Service to avo...\n",
      "99980              C# How to find if an event is hooked up\n",
      "99981                             Raphael Rectangle Border\n",
      "99982                              Java Regex URL Matching\n",
      "99983           fatal error multiply defined symbols found\n",
      "99984    does lucene standardanalyzer remove stopwords ...\n",
      "99985    System.IO.Compression.FileSystem assembly in V...\n",
      "99986    call a function for each value in a generic c#...\n",
      "99987       How to put the xml header, with \"<?xml\" in php\n",
      "99988    Jquery mobile data-rel=\"dialog\" doesnot work o...\n",
      "99989    SyntaxError: function statement requires a nam...\n",
      "99990    Google Chrome javascript error - cannot call m...\n",
      "99991      Unit Test Sessions Window Closes when debugging\n",
      "99992                Convert string to safe name for class\n",
      "99993      DataGridView column order does not seem to work\n",
      "99994    include() function in PHP behaves differently ...\n",
      "99995    Obj-c, incorrect checksum for freed object - o...\n",
      "99996                How to connect via HTTPS using Jsoup?\n",
      "99997    Python Pandas Series of Datetimes to Seconds S...\n",
      "99998    jqGrid issue grouping - Duplicate rows get app...\n",
      "99999                      Create a List of primitive int?\n",
      "Name: title, Length: 100000, dtype: object\n",
      "tags  0                                             [r]\n",
      "1                                    [php, mysql]\n",
      "2                                            [c#]\n",
      "3                            [javascript, jquery]\n",
      "4                                          [java]\n",
      "5                                 [ruby-on-rails]\n",
      "6                   [ruby, ruby-on-rails-3, json]\n",
      "7                                          [ruby]\n",
      "8                      [java, spring, spring-mvc]\n",
      "9                              [php, codeigniter]\n",
      "10                                  [java, class]\n",
      "11                [javascript, jquery, html, ios]\n",
      "12                           [javascript, jquery]\n",
      "13                                 [c++, eclipse]\n",
      "14                                   [javascript]\n",
      "15                                 [python, list]\n",
      "16                             [ios, objective-c]\n",
      "17                             [ios, json, swift]\n",
      "18                                     [c#, xaml]\n",
      "19                                  [c#, asp.net]\n",
      "20                      [c#, wpf, multithreading]\n",
      "21                                 [python, ruby]\n",
      "22                      [php, image, codeigniter]\n",
      "23                            [java, performance]\n",
      "24        [javascript, jquery, twitter-bootstrap]\n",
      "25                                     [c#, linq]\n",
      "26                                  [python, xml]\n",
      "27                                           [c#]\n",
      "28                                       [python]\n",
      "29                                [python, numpy]\n",
      "                           ...                   \n",
      "99970                            [php, wordpress]\n",
      "99971                                       [php]\n",
      "99972                   [java, spring, hibernate]\n",
      "99973                                       [php]\n",
      "99974                                  [c#, .net]\n",
      "99975                          [c#, web-services]\n",
      "99976                                         [r]\n",
      "99977               [ios, xcode, facebook, swift]\n",
      "99978                                  [c#, .net]\n",
      "99979                          [c#, asp.net, wcf]\n",
      "99980                                        [c#]\n",
      "99981                                [javascript]\n",
      "99982                               [java, regex]\n",
      "99983                                       [c++]\n",
      "99984                                      [java]\n",
      "99985              [c#, .net, visual-studio-2010]\n",
      "99986                        [c#, linq, generics]\n",
      "99987                                       [php]\n",
      "99988                [javascript, jquery, iphone]\n",
      "99989                                [javascript]\n",
      "99990                                [javascript]\n",
      "99991    [c#, asp.net, asp.net-mvc, unit-testing]\n",
      "99992                                  [php, css]\n",
      "99993                                    [vb.net]\n",
      "99994                                       [php]\n",
      "99995     [iphone, objective-c, ios, cocoa-touch]\n",
      "99996                             [java, android]\n",
      "99997                  [python, datetime, pandas]\n",
      "99998                        [javascript, jquery]\n",
      "99999                      [java, list, generics]\n",
      "Name: tags, Length: 100000, dtype: object\n",
      "<class 'pandas.core.series.Series'>\n"
     ]
    }
   ],
   "source": [
    "# type(train) pandas.core.frame.DataFrame\n",
    "# data stored in the form of pd.series. 1d array where each column is an array'pandas.core.series.Series'\n",
    "for i, j in train.items():\n",
    "    print(i, end = '  ')\n",
    "    print(j)\n",
    "print(type(j))"
   ]
  },
  {
   "cell_type": "code",
   "execution_count": 28,
   "metadata": {},
   "outputs": [
    {
     "data": {
      "text/plain": [
       "100000"
      ]
     },
     "execution_count": 28,
     "metadata": {},
     "output_type": "execute_result"
    }
   ],
   "source": [
    "# accessing the series data by labels and store them in separate variables\n",
    "# X_train , y_train etc are n.arrays.\n",
    "X_train, y_train = train['title'].values, train['tags'].values\n",
    "X_val, y_val = validation['title'].values, validation['tags'].values\n",
    "X_test = test['title'].values"
   ]
  },
  {
   "cell_type": "code",
   "execution_count": 94,
   "metadata": {},
   "outputs": [],
   "source": [
    "# Now preparing the text \n",
    "import re\n",
    "REPLACE_BY_SPACE_RE = re.compile('[/(){}\\[\\]\\|@,;]')\n",
    "BAD_SYMBOLS_RE = re.compile('[^0-9a-z #+_]')\n",
    "STOPWORDS = set(stopwords.words('english'))\n",
    "\n",
    "def text_prepare(text):\n",
    "    '''\n",
    "    text: a string\n",
    "    return: modified initial string\n",
    "    '''\n",
    "    text = text.lower() # lowercase text\n",
    "    print(text)\n",
    "    text = re.sub(REPLACE_BY_SPACE_RE, 'a', text)\n",
    "    print(\"text replace\",text)\n",
    "    text2 = re.sub(BAD_SYMBOLS_RE,'', text) # deleting bad symbols\n",
    "    print(\"Bad symbols\",text2)\n",
    "    text1 = ' '.join([word for word in text.split() if not word in STOPWORDS])\n",
    "    return text1"
   ]
  },
  {
   "cell_type": "code",
   "execution_count": 95,
   "metadata": {},
   "outputs": [],
   "source": [
    "def test_text_prepare():\n",
    "    examples = [\"SQL Server - any equivalent of Excel's CHOOSE function?\", \"How to free c++ memory vector<int> * arr\"]\n",
    "    answers = [\"sql server equivalent excels choose function\", \"free c++ memory vectorint arr\"]\n",
    "    for ex, ans in zip(examples, answers):\n",
    "        if text_prepare(ex) != ans:\n",
    "            return \"Wrong answer for the case: '%s'\" % text_prepare(ex)\n",
    "    return 'Basic tests are passed'"
   ]
  },
  {
   "cell_type": "code",
   "execution_count": 96,
   "metadata": {},
   "outputs": [
    {
     "name": "stdout",
     "output_type": "stream",
     "text": [
      "sql server - any equivalent of excel's choose function?\n",
      "text replace sql server - any equivalent of excel's choose function?\n",
      "Bad symbols sql server  any equivalent of excels choose function\n",
      "sql server - any equivalent of excel's choose function?\n",
      "text replace sql server - any equivalent of excel's choose function?\n",
      "Bad symbols sql server  any equivalent of excels choose function\n",
      "Wrong answer for the case: 'sql server - equivalent excel's choose function?'\n"
     ]
    }
   ],
   "source": [
    "print(test_text_prepare())"
   ]
  },
  {
   "cell_type": "code",
   "execution_count": null,
   "metadata": {},
   "outputs": [],
   "source": []
  }
 ],
 "metadata": {
  "kernelspec": {
   "display_name": "Python 3",
   "language": "python",
   "name": "python3"
  },
  "language_info": {
   "codemirror_mode": {
    "name": "ipython",
    "version": 3
   },
   "file_extension": ".py",
   "mimetype": "text/x-python",
   "name": "python",
   "nbconvert_exporter": "python",
   "pygments_lexer": "ipython3",
   "version": "3.5.2"
  }
 },
 "nbformat": 4,
 "nbformat_minor": 2
}
